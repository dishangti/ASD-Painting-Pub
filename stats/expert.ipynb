{
 "cells": [
  {
   "cell_type": "code",
   "execution_count": 1,
   "metadata": {},
   "outputs": [],
   "source": [
    "import numpy as np\n",
    "import json\n",
    "from sklearn.metrics import classification_report, accuracy_score, precision_score, recall_score,f1_score, roc_curve, auc"
   ]
  },
  {
   "cell_type": "code",
   "execution_count": 2,
   "metadata": {},
   "outputs": [],
   "source": [
    "with open('../preprocess/results/sha256type.json', 'r') as f:\n",
    "    standard = json.load(f)\n",
    "Jin = np.load('./results/classify_Jin.npy', allow_pickle=True)\n",
    "Zhang = np.load('./results/classify_Zhang.npy', allow_pickle=True)"
   ]
  },
  {
   "cell_type": "code",
   "execution_count": 8,
   "metadata": {},
   "outputs": [
    {
     "name": "stdout",
     "output_type": "stream",
     "text": [
      "0.15327102803738318 0.5476635514018692\n"
     ]
    }
   ],
   "source": [
    "Jin_series = []\n",
    "standard_series = []\n",
    "for i in range(2):\n",
    "    for cls in Jin[i]:\n",
    "        Jin_series.append(1-i)\n",
    "        standard_series.append(1-standard[cls])\n",
    "\n",
    "FP = 0\n",
    "TP = 0\n",
    "for i in range(len(Jin_series)):\n",
    "    if Jin_series[i] == 1 and standard_series[i] == 0:\n",
    "        FP += 1\n",
    "    elif Jin_series[i] == 1 and standard_series[i] == 1:\n",
    "        TP += 1\n",
    "FP /= len(Jin_series)\n",
    "TP /= len(Jin_series)\n",
    "\n",
    "print(FP, TP)"
   ]
  },
  {
   "cell_type": "code",
   "execution_count": 33,
   "metadata": {},
   "outputs": [
    {
     "name": "stdout",
     "output_type": "stream",
     "text": [
      "Jin's classification results:\n",
      "0.6934579439252336\n",
      "0.7813333333333333\n",
      "0.7813333333333333\n",
      "0.7813333333333333\n",
      "              precision    recall  f1-score   support\n",
      "\n",
      "           0       0.49      0.49      0.49       160\n",
      "           1       0.78      0.78      0.78       375\n",
      "\n",
      "    accuracy                           0.69       535\n",
      "   macro avg       0.63      0.63      0.63       535\n",
      "weighted avg       0.69      0.69      0.69       535\n",
      "\n"
     ]
    }
   ],
   "source": [
    "print(\"Jin's classification results:\")\n",
    "print(accuracy_score(standard_series, Jin_series))\n",
    "print(precision_score(standard_series, Jin_series))\n",
    "print(recall_score(standard_series, Jin_series))\n",
    "print(f1_score(standard_series, Jin_series))\n",
    "print(classification_report(standard_series, Jin_series))"
   ]
  },
  {
   "cell_type": "code",
   "execution_count": 7,
   "metadata": {},
   "outputs": [
    {
     "name": "stdout",
     "output_type": "stream",
     "text": [
      "0.011320754716981131 0.1\n"
     ]
    }
   ],
   "source": [
    "Zhang_series = []\n",
    "standard_series = []\n",
    "for i in range(2):\n",
    "    for cls in Zhang[i]:\n",
    "        Zhang_series.append(1-i)\n",
    "        standard_series.append(1-standard[cls])\n",
    "\n",
    "FP = 0\n",
    "TP = 0\n",
    "for i in range(len(Zhang_series)):\n",
    "    if Zhang_series[i] == 1 and standard_series[i] == 0:\n",
    "        FP += 1\n",
    "    elif Zhang_series[i] == 1 and standard_series[i] == 1:\n",
    "        TP += 1\n",
    "FP /= len(Zhang_series)\n",
    "TP /= len(Zhang_series)\n",
    "\n",
    "print(FP, TP)"
   ]
  },
  {
   "cell_type": "code",
   "execution_count": 6,
   "metadata": {},
   "outputs": [
    {
     "name": "stdout",
     "output_type": "stream",
     "text": [
      "Zhang's classification results:\n",
      "0.3905660377358491\n",
      "0.8983050847457628\n",
      "0.14324324324324325\n",
      "0.24708624708624705\n",
      "              precision    recall  f1-score   support\n",
      "\n",
      "           0       0.33      0.96      0.49       160\n",
      "           1       0.90      0.14      0.25       370\n",
      "\n",
      "    accuracy                           0.39       530\n",
      "   macro avg       0.61      0.55      0.37       530\n",
      "weighted avg       0.73      0.39      0.32       530\n",
      "\n"
     ]
    }
   ],
   "source": [
    "print(\"Zhang's classification results:\")\n",
    "print(accuracy_score(standard_series, Zhang_series))\n",
    "print(precision_score(standard_series, Zhang_series))\n",
    "print(recall_score(standard_series, Zhang_series))\n",
    "print(f1_score(standard_series, Zhang_series))\n",
    "print(classification_report(standard_series, Zhang_series))"
   ]
  },
  {
   "cell_type": "code",
   "execution_count": null,
   "metadata": {},
   "outputs": [],
   "source": []
  }
 ],
 "metadata": {
  "kernelspec": {
   "display_name": "torch",
   "language": "python",
   "name": "python3"
  },
  "language_info": {
   "codemirror_mode": {
    "name": "ipython",
    "version": 3
   },
   "file_extension": ".py",
   "mimetype": "text/x-python",
   "name": "python",
   "nbconvert_exporter": "python",
   "pygments_lexer": "ipython3",
   "version": "3.8.16"
  },
  "orig_nbformat": 4
 },
 "nbformat": 4,
 "nbformat_minor": 2
}
