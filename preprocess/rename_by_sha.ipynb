{
 "cells": [
  {
   "cell_type": "code",
   "execution_count": 9,
   "id": "6ff7c1cb",
   "metadata": {},
   "outputs": [],
   "source": [
    "import shutil\n",
    "import hashlib\n",
    "import json"
   ]
  },
  {
   "cell_type": "code",
   "execution_count": 2,
   "id": "8da091c6",
   "metadata": {},
   "outputs": [],
   "source": [
    "draw_num = [379, 162]\n",
    "draw_classes = ['ASD', 'TD']\n",
    "excluded = [[177,205,257,302],[78,79]]"
   ]
  },
  {
   "cell_type": "code",
   "execution_count": 5,
   "id": "89dcdf05",
   "metadata": {},
   "outputs": [],
   "source": [
    "def sha256hash(fpath: str) -> str:\n",
    "    with open(fpath, 'rb') as f:\n",
    "        return hashlib.new('sha256', f.read()).hexdigest()"
   ]
  },
  {
   "cell_type": "code",
   "execution_count": 10,
   "id": "28027e6f",
   "metadata": {},
   "outputs": [],
   "source": [
    "type_map = {}\n",
    "\n",
    "for i, cls in enumerate(draw_classes):\n",
    "    draw_dr = f'../paintings/experiment/{cls}/'\n",
    "    for j in range(1,draw_num[i]+1):\n",
    "        if j in excluded[i]:\n",
    "            continue\n",
    "        ori_file = f\"{draw_dr}/{j}.jpg\"\n",
    "        sha256 = sha256hash(ori_file)\n",
    "        type_map[sha256] = i\n",
    "        shutil.copyfile(ori_file, f\"{draw_dr}/../ALL/{sha256}.jpg\")\n",
    "\n",
    "json_str = json.dumps(type_map)\n",
    "with open('./results/sha256type.json', 'w') as f:\n",
    "    f.write(json_str)"
   ]
  }
 ],
 "metadata": {
  "kernelspec": {
   "display_name": "Python 3 (ipykernel)",
   "language": "python",
   "name": "python3"
  },
  "language_info": {
   "codemirror_mode": {
    "name": "ipython",
    "version": 3
   },
   "file_extension": ".py",
   "mimetype": "text/x-python",
   "name": "python",
   "nbconvert_exporter": "python",
   "pygments_lexer": "ipython3",
   "version": "3.8.16"
  }
 },
 "nbformat": 4,
 "nbformat_minor": 5
}
