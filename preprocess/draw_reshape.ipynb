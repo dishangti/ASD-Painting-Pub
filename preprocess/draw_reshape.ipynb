{
 "cells": [
  {
   "cell_type": "code",
   "execution_count": 30,
   "id": "eccf0ea2",
   "metadata": {},
   "outputs": [],
   "source": [
    "import os\n",
    "from PIL import Image"
   ]
  },
  {
   "cell_type": "code",
   "execution_count": 18,
   "id": "58c453a2",
   "metadata": {},
   "outputs": [],
   "source": [
    "draw_types = ['barbola', 'line_drawing', 'oil_painting', 'watercolor']\n",
    "draw_classes = ['ASD', 'TD']"
   ]
  },
  {
   "cell_type": "code",
   "execution_count": 12,
   "id": "13b1b4b4",
   "metadata": {},
   "outputs": [],
   "source": [
    "max_x = 2387\n",
    "max_y = 3360\n",
    "\n",
    "for tp in draw_types:\n",
    "    for cls in draw_classes:\n",
    "        draw_list = os.listdir(f'./{tp}/{cls}/')\n",
    "        for draw_file in draw_list:\n",
    "            im = Image.open(f'./{tp}/{cls}/{draw_file}')\n",
    "            max_x = min(max_x, im.size[0])\n",
    "            max_y = min(max_y, im.size[1])"
   ]
  },
  {
   "cell_type": "code",
   "execution_count": null,
   "id": "aa939beb",
   "metadata": {},
   "outputs": [],
   "source": [
    "for tp in draw_types:\n",
    "    for cls in draw_classes:\n",
    "        os.makedirs(f'./reshape_min/{tp}/{cls}/')"
   ]
  },
  {
   "cell_type": "code",
   "execution_count": 26,
   "id": "de8bc9c4",
   "metadata": {},
   "outputs": [],
   "source": [
    "for tp in draw_types:\n",
    "    for cls in draw_classes:\n",
    "        draw_list = os.listdir(f'./{tp}/{cls}/')\n",
    "        for draw_file in draw_list:\n",
    "            im = Image.open(f'./{tp}/{cls}/{draw_file}')\n",
    "            im = im.resize((max_x, int(max_x/im.size[0]*im.size[1])), Image.BICUBIC)\n",
    "            im.save(f'./minimal/{tp}/{cls}/{draw_file}'[:-4]+'.jpg')"
   ]
  },
  {
   "cell_type": "code",
   "execution_count": null,
   "id": "e7458d6a",
   "metadata": {},
   "outputs": [],
   "source": []
  }
 ],
 "metadata": {
  "kernelspec": {
   "display_name": "Python 3 (ipykernel)",
   "language": "python",
   "name": "python3"
  },
  "language_info": {
   "codemirror_mode": {
    "name": "ipython",
    "version": 3
   },
   "file_extension": ".py",
   "mimetype": "text/x-python",
   "name": "python",
   "nbconvert_exporter": "python",
   "pygments_lexer": "ipython3",
   "version": "3.8.16"
  }
 },
 "nbformat": 4,
 "nbformat_minor": 5
}
