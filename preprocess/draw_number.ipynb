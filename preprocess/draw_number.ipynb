{
 "cells": [
  {
   "cell_type": "code",
   "execution_count": 1,
   "id": "6ff7c1cb",
   "metadata": {},
   "outputs": [],
   "source": [
    "import os"
   ]
  },
  {
   "cell_type": "code",
   "execution_count": 3,
   "id": "8da091c6",
   "metadata": {},
   "outputs": [],
   "source": [
    "draw_types = ['barbola', 'line_drawing', 'oil_painting', 'watercolor']\n",
    "draw_classes = ['ASD', 'TD']"
   ]
  },
  {
   "cell_type": "code",
   "execution_count": null,
   "id": "28027e6f",
   "metadata": {},
   "outputs": [],
   "source": [
    "for i,tp in enumerate(draw_types):\n",
    "    for cls in draw_classes:\n",
    "        draw_dr = f'./minimal/{tp}/{cls}/'\n",
    "        draw_list = os.listdir(draw_dr)\n",
    "        draw_list.sort()\n",
    "        for i, draw_file in enumerate(draw_list):\n",
    "            os.rename(f\"{draw_dr}/{draw_file}\", f\"{draw_dr}/{i+1}.jpg\")"
   ]
  },
  {
   "cell_type": "code",
   "execution_count": null,
   "id": "33be414e",
   "metadata": {},
   "outputs": [],
   "source": []
  }
 ],
 "metadata": {
  "kernelspec": {
   "display_name": "Python 3 (ipykernel)",
   "language": "python",
   "name": "python3"
  },
  "language_info": {
   "codemirror_mode": {
    "name": "ipython",
    "version": 3
   },
   "file_extension": ".py",
   "mimetype": "text/x-python",
   "name": "python",
   "nbconvert_exporter": "python",
   "pygments_lexer": "ipython3",
   "version": "3.8.16"
  }
 },
 "nbformat": 4,
 "nbformat_minor": 5
}
